{
  "nbformat": 4,
  "nbformat_minor": 0,
  "metadata": {
    "colab": {
      "name": "rock-paper-scissors.ipynb",
      "provenance": [],
      "authorship_tag": "ABX9TyPhb9liN5moy/VdlYnnF/Ia",
      "include_colab_link": true
    },
    "kernelspec": {
      "name": "python3",
      "display_name": "Python 3"
    },
    "language_info": {
      "name": "python"
    }
  },
  "cells": [
    {
      "cell_type": "markdown",
      "metadata": {
        "id": "view-in-github",
        "colab_type": "text"
      },
      "source": [
        "<a href=\"https://colab.research.google.com/github/Ivacn/Countdown-Timer/blob/main/rock_paper_scissors.ipynb\" target=\"_parent\"><img src=\"https://colab.research.google.com/assets/colab-badge.svg\" alt=\"Open In Colab\"/></a>"
      ]
    },
    {
      "cell_type": "markdown",
      "source": [
        "Rock paper scissors is a hand game for two or more players. Participants say “rock, paper, scissors” and then simultaneously form their hands into the shape of a rock (a fist), a piece of paper (palm facing downward), or a pair of scissors (two fingers extended).\n",
        "\n",
        "The rules are supposed to be like this:\n",
        "\n",
        "Rock smashes scissors.\n",
        "Paper covers rock.\n",
        "Scissors cut paper."
      ],
      "metadata": {
        "id": "1gZ5uymvPWkd"
      }
    },
    {
      "cell_type": "code",
      "source": [
        "#we have to import random library\n",
        "import random\n",
        "#we have to get user input\n",
        "while True:\n",
        " user_decision= input(\"Please,Enter a decison rock,paper or scissors:\")\n",
        "#We can use random.choice() to have the computer randomly select between the actions,This allows a random element to be selected from the list.\n",
        "possible_actions=['Rock','Paper','Scissors']\n",
        "computer_action=random.choice(possible_actions)\n",
        "#Also,We can print the choices\n",
        "print(f\"\\n You chose{user_decision}, and computer chose{computer_action}.\\n\")\n",
        "\n",
        "#These steps are for the determine for the winner\n",
        "if user_decision==computer_action:\n",
        "  print(f\"Both players selected same thing {user_decision}. It's a tie!\")\n",
        "elif user_decision==\"Rock\":\n",
        "  if computer_action==\"scissors\":\n",
        "    print(\"Rock smashes scissors! You're the winner!\")\n",
        "  else:\n",
        "     print(\"Paper covers rock! You lost.\")\n",
        "elif user_decision==\"Paper\":\n",
        "  if computer_action == \"Rock\":\n",
        "        print(\"Paper covers rock! You're the winner!\")\n",
        "  else:\n",
        "        print(\"Scissors cuts paper! You lost.\")\n",
        "elif user_decision == \"Scissors\":\n",
        "    if computer_action == \"Paper\":\n",
        "        print(\"Scissors cuts paper! You're the winner!\")\n",
        "    else:\n",
        "        print(\"Rock smashes scissors! You lost.\")\n",
        "#For the basic it's enough for the game but if you want to play multiple times , this code will help you to move on.\n",
        "play_again = input(\"Do you want to Play again? (y/n): \")\n",
        "if play_again.lower() != \"y\":\n",
        " break\n",
        "\n"
      ],
      "metadata": {
        "colab": {
          "base_uri": "https://localhost:8080/"
        },
        "id": "S7SQnG7sPr08",
        "outputId": "6182fbeb-ee7e-4755-bdac-744d62244eef"
      },
      "execution_count": null,
      "outputs": [
        {
          "name": "stdout",
          "output_type": "stream",
          "text": [
            "Please,Enter a decison rock,paper or scissors:paper\n",
            "Please,Enter a decison rock,paper or scissors:paper\n",
            "Please,Enter a decison rock,paper or scissors:scissors\n",
            "Please,Enter a decison rock,paper or scissors:rock\n",
            "Please,Enter a decison rock,paper or scissors:paper\n",
            "Please,Enter a decison rock,paper or scissors:scissors\n"
          ]
        }
      ]
    },
    {
      "cell_type": "code",
      "source": [
        ""
      ],
      "metadata": {
        "id": "WIiMutzqQOye"
      },
      "execution_count": null,
      "outputs": []
    }
  ]
}